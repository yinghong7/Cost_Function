{
 "cells": [
  {
   "cell_type": "code",
   "execution_count": 1,
   "metadata": {},
   "outputs": [],
   "source": [
    "import numpy as np\n",
    "import pandas as pd\n",
    "from sklearn.model_selection import train_test_split\n",
    "from sklearn.preprocessing import OneHotEncoder, StandardScaler"
   ]
  },
  {
   "cell_type": "markdown",
   "metadata": {},
   "source": [
    "### Australian datasets - application cost"
   ]
  },
  {
   "cell_type": "code",
   "execution_count": 2,
   "metadata": {},
   "outputs": [],
   "source": [
    "x_train_likert = np.genfromtxt ('C:/Users/z5023853/OneDrive - UNSW/Separated dataset_ML/a1_traintest_py.csv', \n",
    "                    delimiter = ',', usecols = (21,20,16,22), skip_header=1)\n",
    "x_train = np.genfromtxt ('C:/Users/z5023853/OneDrive - UNSW/Separated dataset_ML/a1_cv_py.csv', \n",
    "                    delimiter = ',', usecols = (21,20,16,22),skip_header=1)\n",
    "scaler = StandardScaler ()\n",
    "scaler.fit (x_train_likert)\n",
    "x_train = scaler.transform (x_train)"
   ]
  },
  {
   "cell_type": "code",
   "execution_count": 3,
   "metadata": {},
   "outputs": [],
   "source": [
    "x_install_likert = np.genfromtxt ('C:/Users/z5023853/OneDrive - UNSW/Separated dataset_ML/a1_traintest_py.csv', \n",
    "                    delimiter = ',', usecols = (23,24,25,38,18,19), skip_header=1)\n",
    "x_install = np.genfromtxt ('C:/Users/z5023853/OneDrive - UNSW/Separated dataset_ML/a1_cv_py.csv', \n",
    "                    delimiter = ',', usecols = (23,24,25,38,18,19),skip_header=1)\n",
    "scaler = StandardScaler ()\n",
    "scaler.fit (x_install_likert)\n",
    "x_install = scaler.transform (x_install)"
   ]
  },
  {
   "cell_type": "code",
   "execution_count": 4,
   "metadata": {},
   "outputs": [],
   "source": [
    "x_adapt_likert = np.genfromtxt ('C:/Users/z5023853/OneDrive - UNSW/Separated dataset_ML/a1_traintest_py.csv', \n",
    "                    delimiter = ',', usecols = (39,40,41,42), skip_header=1)\n",
    "x_adapt = np.genfromtxt ('C:/Users/z5023853/OneDrive - UNSW/Separated dataset_ML/a1_cv_py.csv', \n",
    "                    delimiter = ',', usecols = (39,40,41,42),skip_header=1)\n",
    "scaler = StandardScaler ()\n",
    "scaler.fit (x_adapt_likert)\n",
    "x_adapt = scaler.transform (x_adapt)"
   ]
  },
  {
   "cell_type": "code",
   "execution_count": 5,
   "metadata": {},
   "outputs": [],
   "source": [
    "x_intang_likert = np.genfromtxt ('C:/Users/z5023853/OneDrive - UNSW/Separated dataset_ML/a1_traintest_py.csv', \n",
    "                    delimiter = ',', usecols = (10,11,33), skip_header=1)\n",
    "x_intang = np.genfromtxt ('C:/Users/z5023853/OneDrive - UNSW/Separated dataset_ML/a1_cv_py.csv', \n",
    "                    delimiter = ',', usecols = (10,11,33),skip_header=1)\n",
    "scaler = StandardScaler ()\n",
    "scaler.fit (x_intang_likert)\n",
    "x_intang = scaler.transform (x_intang)"
   ]
  },
  {
   "cell_type": "code",
   "execution_count": 6,
   "metadata": {},
   "outputs": [],
   "source": [
    "x_prod_likert = np.genfromtxt ('C:/Users/z5023853/OneDrive - UNSW/Separated dataset_ML/a1_traintest_py.csv', \n",
    "                    delimiter = ',', usecols = (31,32,34,35,37), skip_header=1)\n",
    "x_prod = np.genfromtxt ('C:/Users/z5023853/OneDrive - UNSW/Separated dataset_ML/a1_cv_py.csv', \n",
    "                    delimiter = ',', usecols = (31,32,34,35,37),skip_header=1)\n",
    "scaler = StandardScaler ()\n",
    "scaler.fit (x_prod_likert)\n",
    "x_prod = scaler.transform (x_prod)"
   ]
  },
  {
   "cell_type": "code",
   "execution_count": 7,
   "metadata": {},
   "outputs": [],
   "source": [
    "adapt_cost = np.genfromtxt ('C:/Users/z5023853/OneDrive - UNSW/Jupyter/Keras/y_cost_APPadapt_cost.csv',\n",
    "                            delimiter = ',')\n",
    "install_cost = np.genfromtxt ('C:/Users/z5023853/OneDrive - UNSW/Jupyter/Keras/y_cost_APPinstall_cost.csv',\n",
    "                              delimiter = ',')\n",
    "train_cost = np.genfromtxt ('C:/Users/z5023853/OneDrive - UNSW/Jupyter/Keras/y_cost_APPtrain_cost.csv',\n",
    "                              delimiter = ',')\n",
    "intang_improve = np.genfromtxt ('C:/Users/z5023853/OneDrive - UNSW/Jupyter/Keras/y_cost_APPintang_improve.csv',\n",
    "                              delimiter = ',')\n",
    "product_improve = np.genfromtxt ('C:/Users/z5023853/OneDrive - UNSW/Jupyter/Keras/y_cost_APPproduct_improve.csv',\n",
    "                              delimiter = ',')"
   ]
  },
  {
   "cell_type": "code",
   "execution_count": 8,
   "metadata": {},
   "outputs": [],
   "source": [
    "adapt_bar = np.mean(x_adapt, axis = 1).reshape(14,1);\n",
    "install_bar = np.mean(x_install, axis = 1).reshape(14,1);\n",
    "train_bar = np.mean(x_train, axis = 1).reshape(14,1);\n",
    "intang_bar = np.mean(x_intang, axis = 1).reshape(14,1);\n",
    "product_bar = np.mean(x_prod, axis = 1).reshape(14,1);"
   ]
  },
  {
   "cell_type": "code",
   "execution_count": 9,
   "metadata": {},
   "outputs": [],
   "source": [
    "adapt_cost_1 = adapt_cost*adapt_bar;\n",
    "install_cost_1 = -install_cost*install_bar;\n",
    "train_cost_1 = -train_cost*train_bar;\n",
    "intang_improve_1 = -intang_improve*intang_bar;\n",
    "product_improve_1 = -product_improve*product_bar;"
   ]
  },
  {
   "cell_type": "code",
   "execution_count": 10,
   "metadata": {},
   "outputs": [],
   "source": [
    "np.savetxt('APPadapt_cost_AU.csv', adapt_cost_1,delimiter=', ')\n",
    "np.savetxt('APPinstall_cost_AU.csv', install_cost_1,delimiter=', ')\n",
    "np.savetxt('APPtrain_cost_AU.csv', train_cost_1,delimiter=', ')\n",
    "np.savetxt('APPintang_improve_AU.csv', intang_improve_1,delimiter=', ')\n",
    "np.savetxt('APPproduct_improve_AU.csv', product_improve_1,delimiter=', ')"
   ]
  },
  {
   "cell_type": "code",
   "execution_count": 9,
   "metadata": {},
   "outputs": [],
   "source": [
    "adapt_LOD = np.genfromtxt ('C:/Users/z5023853/OneDrive - UNSW/Jupyter/Keras/y_cost_LODadapt_cost.csv',\n",
    "                            delimiter = ',')\n",
    "install_LOD = np.genfromtxt ('C:/Users/z5023853/OneDrive - UNSW/Jupyter/Keras/y_cost_LODinstall_cost.csv',\n",
    "                              delimiter = ',')\n",
    "train_LOD = np.genfromtxt ('C:/Users/z5023853/OneDrive - UNSW/Jupyter/Keras/y_cost_LODtrain_cost.csv',\n",
    "                              delimiter = ',')\n",
    "intang_LOD = np.genfromtxt ('C:/Users/z5023853/OneDrive - UNSW/Jupyter/Keras/y_cost_LODintang_improve.csv',\n",
    "                              delimiter = ',')\n",
    "product_LOD = np.genfromtxt ('C:/Users/z5023853/OneDrive - UNSW/Jupyter/Keras/y_cost_LODproduct_improve.csv',\n",
    "                              delimiter = ',')"
   ]
  },
  {
   "cell_type": "code",
   "execution_count": 11,
   "metadata": {},
   "outputs": [
    {
     "name": "stdout",
     "output_type": "stream",
     "text": [
      "(14, 4)\n"
     ]
    }
   ],
   "source": [
    "print (adapt_LOD.shape)"
   ]
  },
  {
   "cell_type": "code",
   "execution_count": 10,
   "metadata": {},
   "outputs": [],
   "source": [
    "adapt_cost_2 = adapt_LOD*adapt_bar;\n",
    "install_cost_2 = -install_LOD*install_bar;\n",
    "train_cost_2 = -train_LOD*train_bar;\n",
    "intang_improve_2 = -intang_LOD*intang_bar;\n",
    "product_improve_2 = -product_LOD*product_bar;"
   ]
  },
  {
   "cell_type": "code",
   "execution_count": 12,
   "metadata": {},
   "outputs": [],
   "source": [
    "i = 0;\n",
    "j = 0;\n",
    "total_cost = np.zeros((14,4))\n",
    "for i in range (14):\n",
    "    for j in range (4):\n",
    "        total_cost_2 = adapt_cost_2.item((i, j))+install_cost_2.item((i, j))+train_cost_2.item((i,j))-intang_improve_2.item((i,j))-product_improve_2.item((i,j));\n",
    "        np.put(total_cost, [4*i+j], [total_cost_2])\n",
    "np.savetxt('LOD_cost_AU.csv', total_cost, delimiter=',') "
   ]
  },
  {
   "cell_type": "code",
   "execution_count": 13,
   "metadata": {},
   "outputs": [],
   "source": [
    "np.savetxt('LODadapt_cost_AU.csv', adapt_cost_2,delimiter=', ')\n",
    "np.savetxt('LODinstall_cost_AU.csv', install_cost_2,delimiter=', ')\n",
    "np.savetxt('LODtrain_cost_AU.csv', train_cost_2,delimiter=', ')\n",
    "np.savetxt('LODintang_improve_AU.csv', intang_improve_2,delimiter=', ')\n",
    "np.savetxt('LODproduct_improve_AU.csv', product_improve_2,delimiter=', ')"
   ]
  },
  {
   "cell_type": "code",
   "execution_count": 14,
   "metadata": {},
   "outputs": [],
   "source": [
    "adapt_LOD = np.genfromtxt ('C:/Users/z5023853/OneDrive - UNSW/Jupyter/Keras/LODadapt_cost_AU.csv',\n",
    "                            delimiter = ',')\n",
    "install_LOD = np.genfromtxt ('C:/Users/z5023853/OneDrive - UNSW/Jupyter/Keras/LODinstall_cost_AU.csv',\n",
    "                              delimiter = ',')\n",
    "train_LOD = np.genfromtxt ('C:/Users/z5023853/OneDrive - UNSW/Jupyter/Keras/LODtrain_cost_AU.csv',\n",
    "                              delimiter = ',')\n",
    "intang_LOD = np.genfromtxt ('C:/Users/z5023853/OneDrive - UNSW/Jupyter/Keras/LODintang_improve_AU.csv',\n",
    "                              delimiter = ',')\n",
    "product_LOD = np.genfromtxt ('C:/Users/z5023853/OneDrive - UNSW/Jupyter/Keras/LODproduct_improve_AU.csv',\n",
    "                              delimiter = ',')"
   ]
  },
  {
   "cell_type": "code",
   "execution_count": 19,
   "metadata": {},
   "outputs": [
    {
     "name": "stdout",
     "output_type": "stream",
     "text": [
      "Adapt C [-0.0009616   0.         -0.0102467  -0.00560137]\n",
      "Install C [-1.46221099 -1.66287207 -0.85171701  0.        ]\n",
      "Train C [ 0.         -0.05299702 -0.07283707 -0.00087174]\n",
      "Intang B [-0.00442046  0.         -0.20608435 -0.25476299]\n",
      "Prod B [-0.3306175   0.         -0.49601386 -0.04322786]\n"
     ]
    }
   ],
   "source": [
    "print ('Adapt C',adapt_LOD[5,:])\n",
    "print ('Install C',install_LOD[5,:])\n",
    "print ('Train C', train_LOD[5,:])\n",
    "print ('Intang B', intang_LOD[5,:])\n",
    "print ('Prod B', product_LOD[5,:])"
   ]
  },
  {
   "cell_type": "code",
   "execution_count": null,
   "metadata": {},
   "outputs": [],
   "source": []
  }
 ],
 "metadata": {
  "kernelspec": {
   "display_name": "Python 3",
   "language": "python",
   "name": "python3"
  },
  "language_info": {
   "codemirror_mode": {
    "name": "ipython",
    "version": 3
   },
   "file_extension": ".py",
   "mimetype": "text/x-python",
   "name": "python",
   "nbconvert_exporter": "python",
   "pygments_lexer": "ipython3",
   "version": "3.6.3"
  }
 },
 "nbformat": 4,
 "nbformat_minor": 2
}
