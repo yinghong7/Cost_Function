{
 "cells": [
  {
   "cell_type": "code",
   "execution_count": 1,
   "metadata": {},
   "outputs": [
    {
     "name": "stderr",
     "output_type": "stream",
     "text": [
      "Using TensorFlow backend.\n"
     ]
    }
   ],
   "source": [
    "from __future__ import print_function\n",
    "import numpy as np\n",
    "import tensorflow as tf\n",
    "import h5py\n",
    "import keras.backend as K\n",
    "from keras.models import Sequential, Model, model_from_json\n",
    "from keras.layers import Dense, Activation\n",
    "from keras import optimizers, layers, callbacks\n",
    "from sklearn.model_selection import train_test_split\n",
    "from sklearn.preprocessing import OneHotEncoder"
   ]
  },
  {
   "cell_type": "markdown",
   "metadata": {},
   "source": [
    "## Training costs(IM1, IM2, IM3, OS1)"
   ]
  },
  {
   "cell_type": "code",
   "execution_count": 2,
   "metadata": {},
   "outputs": [],
   "source": [
    "x_1 = np.genfromtxt ('C:/Users/z5023853/OneDrive - UNSW/Separated dataset_ML/a1_train_scale.csv', \n",
    "                    delimiter = ',', usecols = (15,16,17,18), skip_header=2)\n",
    "y_1o = np.genfromtxt ('C:/Users/z5023853/OneDrive - UNSW/Separated dataset_ML/a1_train_scale.csv', \n",
    "                   delimiter =',', usecols = (29), skip_header=2).reshape (54,1)\n",
    "x_2 = np.genfromtxt ('C:/Users/z5023853/OneDrive - UNSW/Separated dataset_ML/a1_cv_scale.csv', \n",
    "                    delimiter = ',', usecols = (15,16,17,18), skip_header=1)\n",
    "y_2o = np.genfromtxt ('C:/Users/z5023853/OneDrive - UNSW/Separated dataset_ML/a1_cv_scale.csv',\n",
    "                      delimiter =',', usecols = (29),skip_header=1).reshape (14,1)"
   ]
  },
  {
   "cell_type": "code",
   "execution_count": 3,
   "metadata": {},
   "outputs": [],
   "source": [
    "enc = OneHotEncoder ()\n",
    "enc.fit (y_1o)\n",
    "y_1 = enc.transform(y_1o).toarray()\n",
    "y_2 = enc.transform(y_2o).toarray()"
   ]
  },
  {
   "cell_type": "code",
   "execution_count": 4,
   "metadata": {},
   "outputs": [],
   "source": [
    "y_whole = np.vstack ((y_1, y_2)).astype(np.float32)\n",
    "x_whole = np.vstack ((x_1, x_2)).astype(np.float32)\n",
    "x_traind = x_1\n",
    "x_test = x_2\n",
    "y_traind = y_1\n",
    "y_test = y_2\n",
    "x_train, x_cv, y_train, y_cv = train_test_split (x_1,y_1,test_size=0.13)"
   ]
  },
  {
   "cell_type": "code",
   "execution_count": 6,
   "metadata": {},
   "outputs": [
    {
     "name": "stdout",
     "output_type": "stream",
     "text": [
      "Train on 46 samples, validate on 8 samples\n",
      "Epoch 1/40\n",
      "46/46 [==============================] - ETA: 0s - loss: 0.6065 - binary_accuracy: 0.7500 - val_loss: 0.6338 - val_binary_accuracy: 0.7500\n",
      "Epoch 2/40\n",
      "46/46 [==============================] - ETA: 0s - loss: 0.6029 - binary_accuracy: 0.7500 - val_loss: 0.6342 - val_binary_accuracy: 0.7500\n",
      "Epoch 3/40\n",
      "46/46 [==============================] - ETA: 0s - loss: 0.5992 - binary_accuracy: 0.7500 - val_loss: 0.6343 - val_binary_accuracy: 0.7500\n",
      "Epoch 4/40\n",
      "46/46 [==============================] - ETA: 0s - loss: 0.5962 - binary_accuracy: 0.7500 - val_loss: 0.6330 - val_binary_accuracy: 0.7500\n",
      "Epoch 5/40\n",
      "46/46 [==============================] - ETA: 0s - loss: 0.5937 - binary_accuracy: 0.7500 - val_loss: 0.6328 - val_binary_accuracy: 0.7500\n",
      "Epoch 6/40\n",
      "46/46 [==============================] - ETA: 0s - loss: 0.5910 - binary_accuracy: 0.7500 - val_loss: 0.6334 - val_binary_accuracy: 0.7500\n",
      "Epoch 7/40\n",
      "46/46 [==============================] - ETA: 0s - loss: 0.5883 - binary_accuracy: 0.7500 - val_loss: 0.6331 - val_binary_accuracy: 0.7500\n",
      "Epoch 8/40\n",
      "46/46 [==============================] - ETA: 0s - loss: 0.5859 - binary_accuracy: 0.7500 - val_loss: 0.6330 - val_binary_accuracy: 0.7500\n",
      "Epoch 9/40\n",
      "46/46 [==============================] - ETA: 0s - loss: 0.5837 - binary_accuracy: 0.7500 - val_loss: 0.6331 - val_binary_accuracy: 0.7500\n",
      "Epoch 10/40\n",
      "46/46 [==============================] - ETA: 0s - loss: 0.5812 - binary_accuracy: 0.7500 - val_loss: 0.6343 - val_binary_accuracy: 0.7500\n",
      "Epoch 11/40\n",
      "46/46 [==============================] - ETA: 0s - loss: 0.5787 - binary_accuracy: 0.7500 - val_loss: 0.6347 - val_binary_accuracy: 0.7500\n",
      "Epoch 12/40\n",
      "46/46 [==============================] - ETA: 0s - loss: 0.5766 - binary_accuracy: 0.7500 - val_loss: 0.6352 - val_binary_accuracy: 0.7500\n",
      "Epoch 13/40\n",
      "46/46 [==============================] - ETA: 0s - loss: 0.5745 - binary_accuracy: 0.7500 - val_loss: 0.6360 - val_binary_accuracy: 0.7500\n",
      "Epoch 14/40\n",
      "46/46 [==============================] - ETA: 0s - loss: 0.5721 - binary_accuracy: 0.7500 - val_loss: 0.6368 - val_binary_accuracy: 0.7500\n",
      "Epoch 15/40\n",
      "46/46 [==============================] - ETA: 0s - loss: 0.5702 - binary_accuracy: 0.7500 - val_loss: 0.6369 - val_binary_accuracy: 0.7500\n",
      "Epoch 16/40\n",
      "46/46 [==============================] - ETA: 0s - loss: 0.5685 - binary_accuracy: 0.7500 - val_loss: 0.6374 - val_binary_accuracy: 0.7500\n",
      "Epoch 17/40\n",
      "46/46 [==============================] - ETA: 0s - loss: 0.5667 - binary_accuracy: 0.7500 - val_loss: 0.6379 - val_binary_accuracy: 0.7500\n",
      "Epoch 18/40\n",
      "46/46 [==============================] - ETA: 0s - loss: 0.5647 - binary_accuracy: 0.7500 - val_loss: 0.6390 - val_binary_accuracy: 0.7500\n",
      "Epoch 19/40\n",
      "46/46 [==============================] - ETA: 0s - loss: 0.5625 - binary_accuracy: 0.7500 - val_loss: 0.6402 - val_binary_accuracy: 0.7500\n",
      "Epoch 20/40\n",
      "46/46 [==============================] - ETA: 0s - loss: 0.5607 - binary_accuracy: 0.7500 - val_loss: 0.6412 - val_binary_accuracy: 0.7500\n",
      "Epoch 21/40\n",
      "46/46 [==============================] - ETA: 0s - loss: 0.5590 - binary_accuracy: 0.7500 - val_loss: 0.6421 - val_binary_accuracy: 0.7500\n",
      "Epoch 22/40\n",
      "46/46 [==============================] - ETA: 0s - loss: 0.5570 - binary_accuracy: 0.7500 - val_loss: 0.6425 - val_binary_accuracy: 0.7500\n",
      "Epoch 23/40\n",
      "46/46 [==============================] - ETA: 0s - loss: 0.5556 - binary_accuracy: 0.7500 - val_loss: 0.6424 - val_binary_accuracy: 0.7500\n",
      "Epoch 24/40\n",
      "46/46 [==============================] - ETA: 0s - loss: 0.5544 - binary_accuracy: 0.7500 - val_loss: 0.6420 - val_binary_accuracy: 0.7500\n",
      "Epoch 25/40\n",
      "46/46 [==============================] - ETA: 0s - loss: 0.5531 - binary_accuracy: 0.7500 - val_loss: 0.6420 - val_binary_accuracy: 0.7500\n",
      "Epoch 26/40\n",
      "46/46 [==============================] - ETA: 0s - loss: 0.5518 - binary_accuracy: 0.7500 - val_loss: 0.6422 - val_binary_accuracy: 0.7500\n",
      "Epoch 27/40\n",
      "46/46 [==============================] - ETA: 0s - loss: 0.5503 - binary_accuracy: 0.7500 - val_loss: 0.6432 - val_binary_accuracy: 0.7500\n",
      "Epoch 28/40\n",
      "46/46 [==============================] - ETA: 0s - loss: 0.5488 - binary_accuracy: 0.7500 - val_loss: 0.6434 - val_binary_accuracy: 0.7500\n",
      "Epoch 29/40\n",
      "46/46 [==============================] - ETA: 0s - loss: 0.5476 - binary_accuracy: 0.7500 - val_loss: 0.6447 - val_binary_accuracy: 0.7500\n",
      "Epoch 30/40\n",
      "46/46 [==============================] - ETA: 0s - loss: 0.5462 - binary_accuracy: 0.7500 - val_loss: 0.6452 - val_binary_accuracy: 0.7500\n",
      "Epoch 31/40\n",
      "46/46 [==============================] - ETA: 0s - loss: 0.5448 - binary_accuracy: 0.7554 - val_loss: 0.6453 - val_binary_accuracy: 0.7500\n",
      "Epoch 32/40\n",
      "46/46 [==============================] - ETA: 0s - loss: 0.5438 - binary_accuracy: 0.7554 - val_loss: 0.6468 - val_binary_accuracy: 0.7500\n",
      "Epoch 33/40\n",
      "46/46 [==============================] - ETA: 0s - loss: 0.5425 - binary_accuracy: 0.7554 - val_loss: 0.6476 - val_binary_accuracy: 0.7500\n",
      "Epoch 34/40\n",
      "46/46 [==============================] - ETA: 0s - loss: 0.5415 - binary_accuracy: 0.7554 - val_loss: 0.6481 - val_binary_accuracy: 0.7500\n",
      "Epoch 35/40\n",
      "46/46 [==============================] - ETA: 0s - loss: 0.5403 - binary_accuracy: 0.7554 - val_loss: 0.6479 - val_binary_accuracy: 0.7500\n",
      "Epoch 36/40\n",
      "46/46 [==============================] - ETA: 0s - loss: 0.5391 - binary_accuracy: 0.7554 - val_loss: 0.6483 - val_binary_accuracy: 0.7500\n",
      "Epoch 37/40\n",
      "46/46 [==============================] - ETA: 0s - loss: 0.5382 - binary_accuracy: 0.7554 - val_loss: 0.6486 - val_binary_accuracy: 0.7500\n",
      "Epoch 38/40\n",
      "46/46 [==============================] - ETA: 0s - loss: 0.5372 - binary_accuracy: 0.7554 - val_loss: 0.6494 - val_binary_accuracy: 0.7500\n",
      "Epoch 39/40\n",
      "46/46 [==============================] - ETA: 0s - loss: 0.5363 - binary_accuracy: 0.7554 - val_loss: 0.6494 - val_binary_accuracy: 0.7500\n",
      "Epoch 40/40\n",
      "46/46 [==============================] - ETA: 0s - loss: 0.5353 - binary_accuracy: 0.7554 - val_loss: 0.6503 - val_binary_accuracy: 0.7500\n",
      "14/14 [==============================] - ETA: 0s\n",
      "[0.53890615701675415, 0.75]\n"
     ]
    }
   ],
   "source": [
    "num_classes = 4;\n",
    "\n",
    "model = Sequential ()\n",
    "model.add (Dense (units = 25, input_dim = 4))\n",
    "model.add (layers.Activation ('tanh'))\n",
    "model.add (Dense (units = 25))\n",
    "model.add (layers.Activation ('tanh'))\n",
    "model.add (Dense (units = 25))\n",
    "model.add (layers.Activation ('tanh'))\n",
    "#model.add (Dense (units = 16))\n",
    "model.add (Dense(num_classes, activation = 'softmax'))\n",
    "\n",
    "#sgd = optimizer.SGD (lr=0.01, momentum = 0, decay =0, nestrov = False)\n",
    "model.compile (loss = 'binary_crossentropy', optimizer = 'sgd', \n",
    "               metrics=['binary_accuracy'])\n",
    "\n",
    "History = model.fit(x_train, y_train,\n",
    "                    batch_size=20,\n",
    "                    epochs=40,\n",
    "                    verbose=1, validation_data=(x_cv, y_cv))\n",
    "\n",
    "print(model.evaluate (x_test, y_test, batch_size = 20, verbose =1))\n",
    "\n",
    "#help (model.evaluate)\n",
    "#this is the output units\n",
    "\n",
    "y_pred_train = model.predict (x_train)\n",
    "y_pred_cv = model.predict (x_cv)\n",
    "y_pred_test = model.predict (x_test)\n",
    "y_pred_whole = np.vstack ((y_pred_train, y_pred_cv, y_pred_test)).astype(np.float32)"
   ]
  },
  {
   "cell_type": "markdown",
   "metadata": {},
   "source": [
    "### t(x) for labelling"
   ]
  },
  {
   "cell_type": "code",
   "execution_count": 7,
   "metadata": {},
   "outputs": [
    {
     "name": "stdout",
     "output_type": "stream",
     "text": [
      "Saved model to disk\n"
     ]
    }
   ],
   "source": [
    "#save model to json, weights to HDF5\n",
    "model_json = model.to_json ()\n",
    "with open ('model_lod_train_cost_a.json', 'w') as json_file:\n",
    "    json_file.write(model_json)\n",
    "model.save_weights('model_lod_train_cost_a.h5')\n",
    "print ('Saved model to disk')"
   ]
  },
  {
   "cell_type": "code",
   "execution_count": 5,
   "metadata": {},
   "outputs": [],
   "source": [
    "#load json and create model\n",
    "json_file = open('model_lod_train_cost_a.json', 'r')\n",
    "loaded_model_json = json_file.read ()\n",
    "json_file.close ()\n",
    "loaded_model = model_from_json(loaded_model_json)\n",
    "loaded_model.load_weights('model_lod_train_cost_a.h5')"
   ]
  },
  {
   "cell_type": "code",
   "execution_count": 6,
   "metadata": {},
   "outputs": [
    {
     "name": "stdout",
     "output_type": "stream",
     "text": [
      "14/14 [==============================] - ETA: 0s\n",
      "[0.53890615701675415, 0.75]\n",
      "[[ 0.         -0.6359686  -0.87405086 -0.01046091]\n",
      " [ 0.         -1.02063492 -1.39098153 -0.46050191]\n",
      " [-2.12497607 -2.5812678  -2.28365138  0.        ]\n",
      " [-2.57761136 -1.12115234  0.         -2.78417408]\n",
      " [-0.2498284  -1.41997665 -1.34101525  0.        ]\n",
      " [ 0.         -0.6359686  -0.87405086 -0.01046091]\n",
      " [-0.2653867  -0.80692634 -0.96196383  0.        ]\n",
      " [ 0.         -0.69434687 -0.59401736 -0.56054562]\n",
      " [-0.71437687 -1.32666677 -1.48433477  0.        ]\n",
      " [-0.48702747 -0.30000538 -0.18057436  0.        ]\n",
      " [-2.12497607 -2.5812678  -2.28365138  0.        ]\n",
      " [-1.38021305 -1.66737065 -1.63922995  0.        ]\n",
      " [-2.24070862 -1.20744228  0.         -1.41716525]\n",
      " [-2.25000903 -1.24584019  0.         -1.85253546]]\n"
     ]
    }
   ],
   "source": [
    "loaded_model.compile(loss = 'binary_crossentropy', optimizer = 'sgd', \n",
    "               metrics=['binary_accuracy'])\n",
    "print(loaded_model.evaluate (x_test, y_test, batch_size = 20, verbose =1))\n",
    "y_pred_test = loaded_model.predict (x_test)\n",
    "\n",
    "\n",
    "i = 0;\n",
    "j = 0;\n",
    "m = np.zeros((14,4));\n",
    "for i in range (14):\n",
    "    max = 0.0000001;\n",
    "    for j in range (4):\n",
    "        if y_pred_test.item ((i,j))>=max:\n",
    "            max = y_pred_test.item ((i,j))\n",
    "    for j in range (4):\n",
    "        if y_pred_test.item ((i,j)) ==max:\n",
    "            np.put(m, [4*i+j], [1])\n",
    "\n",
    "i = 0;\n",
    "j = 0;\n",
    "selected_LOD = np.zeros((14,1));\n",
    "for i in range (14):\n",
    "    for j in range (4):\n",
    "        if m.item((i,j))>0:\n",
    "            selected_LOD_1 = m.item((i,j))*y_pred_test.item((i,j));\n",
    "            np.put(selected_LOD, [i], [selected_LOD_1])\n",
    "\n",
    "i = 0;\n",
    "j = 0;\n",
    "cf = np.zeros((14,4))\n",
    "for i in range (14):\n",
    "    for j in range (4):\n",
    "        cf_1 = y_pred_test.item((i,j))-selected_LOD.item((i,0));\n",
    "        cf_2 = 10*cf_1;\n",
    "        np.put(cf, [4*i+j], [cf_2])\n",
    "print (cf)\n",
    "np.savetxt('y_cost_LODtrain_cost.csv', cf, delimiter=',') "
   ]
  },
  {
   "cell_type": "code",
   "execution_count": null,
   "metadata": {},
   "outputs": [],
   "source": []
  }
 ],
 "metadata": {
  "kernelspec": {
   "display_name": "Python 3",
   "language": "python",
   "name": "python3"
  },
  "language_info": {
   "codemirror_mode": {
    "name": "ipython",
    "version": 3
   },
   "file_extension": ".py",
   "mimetype": "text/x-python",
   "name": "python",
   "nbconvert_exporter": "python",
   "pygments_lexer": "ipython3",
   "version": "3.6.3"
  }
 },
 "nbformat": 4,
 "nbformat_minor": 2
}
