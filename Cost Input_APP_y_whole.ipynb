{
 "cells": [
  {
   "cell_type": "code",
   "execution_count": 2,
   "metadata": {},
   "outputs": [],
   "source": [
    "import numpy as np\n",
    "import pandas as pd"
   ]
  },
  {
   "cell_type": "markdown",
   "metadata": {},
   "source": [
    "### Australian datasets - application cost"
   ]
  },
  {
   "cell_type": "code",
   "execution_count": 6,
   "metadata": {},
   "outputs": [],
   "source": [
    "adapt_cost = np.genfromtxt ('C:/Users/z5023853/OneDrive - UNSW/Jupyter/Keras/APPadapt_cost_total.csv',\n",
    "                           delimiter  = ',')\n",
    "x_adapt = np.genfromtxt ('C:/Users/z5023853/OneDrive - UNSW/Separated dataset_ML/a_whole_scale.csv', \n",
    "                    delimiter = ',', usecols = (19,20,21,22), skip_header=1)\n",
    "\n",
    "install_cost = np.genfromtxt ('C:/Users/z5023853/OneDrive - UNSW/Jupyter/Keras/APPinstall_cost_total.csv',\n",
    "                           delimiter  = ',')\n",
    "x_install = np.genfromtxt ('C:/Users/z5023853/OneDrive - UNSW/Separated dataset_ML/a_whole_scale.csv', \n",
    "                    delimiter = ',', usecols = (10,11,12,13,14), skip_header=1)\n",
    "\n",
    "train_cost = np.genfromtxt ('C:/Users/z5023853/OneDrive - UNSW/Jupyter/Keras/APPtrain_cost_total.csv',\n",
    "                           delimiter  = ',')\n",
    "x_train = np.genfromtxt ('C:/Users/z5023853/OneDrive - UNSW/Separated dataset_ML/a_whole_scale.csv', \n",
    "                    delimiter = ',', usecols = (15,16,17,18), skip_header=1)\n",
    "\n",
    "intang_improve = np.genfromtxt ('C:/Users/z5023853/OneDrive - UNSW/Jupyter/Keras/APPintang_improve_total.csv',\n",
    "                           delimiter  = ',')\n",
    "x_intang = np.genfromtxt ('C:/Users/z5023853/OneDrive - UNSW/Separated dataset_ML/a_whole_scale.csv', \n",
    "                    delimiter = ',', usecols = (1,7,9), skip_header=1)\n",
    "\n",
    "product_improve = np.genfromtxt ('C:/Users/z5023853/OneDrive - UNSW/Jupyter/Keras/APPproduct_improve_total.csv',\n",
    "                           delimiter  = ',')\n",
    "x_prod = np.genfromtxt ('C:/Users/z5023853/OneDrive - UNSW/Separated dataset_ML/a_whole_scale.csv', \n",
    "                    delimiter = ',', usecols = (2,3,4,5,6), skip_header=1)"
   ]
  },
  {
   "cell_type": "code",
   "execution_count": 7,
   "metadata": {},
   "outputs": [],
   "source": [
    "adapt_bar = np.mean(x_adapt, axis = 1).reshape(98,1);\n",
    "install_bar = np.mean(x_install, axis = 1).reshape(98,1);\n",
    "train_bar = np.mean(x_train, axis = 1).reshape(98,1);\n",
    "intang_bar = np.mean(x_intang, axis = 1).reshape(98,1);\n",
    "product_bar = np.mean(x_prod, axis = 1).reshape(98,1);"
   ]
  },
  {
   "cell_type": "code",
   "execution_count": 8,
   "metadata": {},
   "outputs": [],
   "source": [
    "adapt_cost_1 = adapt_cost*adapt_bar;\n",
    "install_cost_1 = -install_cost*install_bar;\n",
    "train_cost_1 = -train_cost*train_bar;\n",
    "intang_improve_1 = -intang_improve*intang_bar;\n",
    "product_improve_1 = -product_improve*product_bar;"
   ]
  },
  {
   "cell_type": "code",
   "execution_count": 9,
   "metadata": {},
   "outputs": [],
   "source": [
    "np.savetxt('APPadapt_cost_AU_avg_whole.csv', adapt_cost_1,delimiter=', ')\n",
    "np.savetxt('APPinstall_cost_AU_avg_whole.csv', install_cost_1,delimiter=', ')\n",
    "np.savetxt('APPtrain_cost_AU_avg_whole.csv', train_cost_1,delimiter=', ')\n",
    "np.savetxt('APPintang_improve_AU_avg_whole.csv', intang_improve_1,delimiter=', ')\n",
    "np.savetxt('APPproduct_improve_AU_avg_whole.csv', product_improve_1,delimiter=', ')"
   ]
  },
  {
   "cell_type": "code",
   "execution_count": 20,
   "metadata": {},
   "outputs": [
    {
     "name": "stdout",
     "output_type": "stream",
     "text": [
      "Adapt C [-0.32826413 -0.18557155 -0.20005161 -0.0979616  -0.24932694 -0.24184957\n",
      " -0.20010855]\n",
      "Install C [ 10.94911995   5.90396531   9.68731971   3.7742238    4.94882877\n",
      "  11.19171864   8.45365035]\n",
      "Train C [ 0.19726198 -0.30144581 -0.44920949  0.22552971 -0.53042512 -0.38703566\n",
      " -0.10265946]\n",
      "Intang Improve [-0.03501383 -2.37831051 -2.01579056 -0.57754575 -0.83827126 -0.6942261\n",
      " -1.12134484]\n",
      "Product Improve [-13.83461156 -15.45471612 -19.19355472 -15.83063879 -16.68674174\n",
      " -14.29595682 -13.57546455]\n",
      "(98, 7)\n"
     ]
    }
   ],
   "source": [
    "adapt_cost_1 = np.genfromtxt ('C:/Users/z5023853/OneDrive - UNSW/Jupyter/Keras/APPadapt_cost_AU_avg_whole.csv',\n",
    "                           delimiter  = ',')\n",
    "install_cost_1 = np.genfromtxt ('C:/Users/z5023853/OneDrive - UNSW/Jupyter/Keras/APPinstall_cost_AU_avg_whole.csv',\n",
    "                           delimiter  = ',')\n",
    "train_cost_1 = np.genfromtxt ('C:/Users/z5023853/OneDrive - UNSW/Jupyter/Keras/APPtrain_cost_AU_avg_whole.csv',\n",
    "                           delimiter  = ',')\n",
    "intang_improve_1 = np.genfromtxt ('C:/Users/z5023853/OneDrive - UNSW/Jupyter/Keras/APPintang_improve_AU_avg_whole.csv',\n",
    "                           delimiter  = ',')\n",
    "product_improve_1 = np.genfromtxt ('C:/Users/z5023853/OneDrive - UNSW/Jupyter/Keras/APPproduct_improve_AU_avg_whole.csv',\n",
    "                           delimiter  = ',')\n",
    "print ('Adapt C',adapt_cost_1[83,:])\n",
    "print ('Install C', install_cost_1[83,:])\n",
    "print ('Train C',train_cost_1[83,:])\n",
    "print ('Intang Improve', intang_improve_1[83,:])\n",
    "print ('Product Improve', product_improve_1[83,:])\n",
    "print (intang_improve_1.shape)"
   ]
  },
  {
   "cell_type": "code",
   "execution_count": 21,
   "metadata": {},
   "outputs": [],
   "source": [
    "i = 0;\n",
    "j = 0;\n",
    "total_cost = np.zeros((98,7))\n",
    "for i in range (98):\n",
    "    for j in range (7):\n",
    "        total_cost_1 = adapt_cost_1.item((i, j))+install_cost_1.item((i, j))+train_cost_1.item((i,j))-intang_improve_1.item((i,j))-product_improve_1.item((i,j));\n",
    "        np.put(total_cost, [7*i+j], [total_cost_1])\n",
    "np.savetxt('Application_cost_AU_avg_whole.csv', total_cost, delimiter=',') "
   ]
  },
  {
   "cell_type": "markdown",
   "metadata": {},
   "source": [
    "### Australian datasets - LOD cost"
   ]
  },
  {
   "cell_type": "code",
   "execution_count": 5,
   "metadata": {},
   "outputs": [],
   "source": [
    "adapt_cost_LOD = np.genfromtxt ('C:/Users/z5023853/OneDrive - UNSW/Jupyter/Keras/y_cost_LODadapt_cost.csv',\n",
    "                           delimiter  = ',')\n",
    "install_cost_LOD = np.genfromtxt ('C:/Users/z5023853/OneDrive - UNSW/Jupyter/Keras/y_cost_LODinstall_cost.csv',\n",
    "                           delimiter  = ',')\n",
    "train_cost_LOD = np.genfromtxt ('C:/Users/z5023853/OneDrive - UNSW/Jupyter/Keras/y_cost_LODtrain_cost.csv',\n",
    "                           delimiter  = ',')\n",
    "intang_improve_LOD = np.genfromtxt ('C:/Users/z5023853/OneDrive - UNSW/Jupyter/Keras/y_cost_LODintang_improve.csv',\n",
    "                           delimiter  = ',')\n",
    "product_improve_LOD = np.genfromtxt ('C:/Users/z5023853/OneDrive - UNSW/Jupyter/Keras/y_cost_LODproduct_improve.csv',\n",
    "                           delimiter  = ',')\n",
    "train_b = np.genfromtxt ('C:/Users/z5023853/OneDrive - UNSW/Separated dataset_ML/a1_cv_scale.csv', \n",
    "                    delimiter = ',', usecols = (15,16,17,18), skip_header=1)\n",
    "intang_b = np.genfromtxt ('C:/Users/z5023853/OneDrive - UNSW/Separated dataset_ML/a1_cv_scale.csv', \n",
    "                    delimiter = ',', usecols = (2,3,4,5,6), skip_header=1)\n",
    "adapt_b = np.genfromtxt ('C:/Users/z5023853/OneDrive - UNSW/Separated dataset_ML/a1_cv_scale.csv', \n",
    "                    delimiter = ',', usecols = (19,20,21,22), skip_header=1)\n",
    "install_b = np.genfromtxt ('C:/Users/z5023853/OneDrive - UNSW/Separated dataset_ML/a1_cv_scale.csv', \n",
    "                    delimiter = ',', usecols = (10,11,12,13,14), skip_header=1)\n"
   ]
  },
  {
   "cell_type": "code",
   "execution_count": 23,
   "metadata": {},
   "outputs": [
    {
     "ename": "ValueError",
     "evalue": "operands could not be broadcast together with shapes (14,4) (98,1) ",
     "output_type": "error",
     "traceback": [
      "\u001b[1;31m---------------------------------------------------------------------------\u001b[0m",
      "\u001b[1;31mValueError\u001b[0m                                Traceback (most recent call last)",
      "\u001b[1;32m<ipython-input-23-63ba5db45c6e>\u001b[0m in \u001b[0;36m<module>\u001b[1;34m()\u001b[0m\n\u001b[1;32m----> 1\u001b[1;33m \u001b[0madapt_cost_2\u001b[0m \u001b[1;33m=\u001b[0m \u001b[0madapt_cost_LOD\u001b[0m\u001b[1;33m*\u001b[0m\u001b[0madapt_bar\u001b[0m\u001b[1;33m;\u001b[0m\u001b[1;33m\u001b[0m\u001b[0m\n\u001b[0m\u001b[0;32m      2\u001b[0m \u001b[0minstall_cost_2\u001b[0m \u001b[1;33m=\u001b[0m \u001b[1;33m-\u001b[0m\u001b[0minstall_cost_LOD\u001b[0m\u001b[1;33m*\u001b[0m\u001b[0minstall_bar\u001b[0m\u001b[1;33m;\u001b[0m\u001b[1;33m\u001b[0m\u001b[0m\n\u001b[0;32m      3\u001b[0m \u001b[0mtrain_cost_2\u001b[0m \u001b[1;33m=\u001b[0m \u001b[1;33m-\u001b[0m\u001b[0mtrain_cost_LOD\u001b[0m\u001b[1;33m*\u001b[0m\u001b[0mtrain_bar\u001b[0m\u001b[1;33m;\u001b[0m\u001b[1;33m\u001b[0m\u001b[0m\n\u001b[0;32m      4\u001b[0m \u001b[0mintang_improve_2\u001b[0m \u001b[1;33m=\u001b[0m \u001b[1;33m-\u001b[0m\u001b[0mintang_improve_LOD\u001b[0m\u001b[1;33m*\u001b[0m\u001b[0mintang_bar\u001b[0m\u001b[1;33m;\u001b[0m\u001b[1;33m\u001b[0m\u001b[0m\n\u001b[0;32m      5\u001b[0m \u001b[0mproduct_improve_2\u001b[0m \u001b[1;33m=\u001b[0m \u001b[1;33m-\u001b[0m\u001b[0mproduct_improve_LOD\u001b[0m\u001b[1;33m*\u001b[0m\u001b[0mproduct_bar\u001b[0m\u001b[1;33m;\u001b[0m\u001b[1;33m\u001b[0m\u001b[0m\n",
      "\u001b[1;31mValueError\u001b[0m: operands could not be broadcast together with shapes (14,4) (98,1) "
     ]
    }
   ],
   "source": [
    "adapt_cost_2 = adapt_cost_LOD*adapt_bar;\n",
    "install_cost_2 = -install_cost_LOD*install_bar;\n",
    "train_cost_2 = -train_cost_LOD*train_bar;\n",
    "intang_improve_2 = -intang_improve_LOD*intang_bar;\n",
    "product_improve_2 = -product_improve_LOD*product_bar;"
   ]
  },
  {
   "cell_type": "code",
   "execution_count": 14,
   "metadata": {},
   "outputs": [
    {
     "ename": "NameError",
     "evalue": "name 'adapt_cost_2' is not defined",
     "output_type": "error",
     "traceback": [
      "\u001b[1;31m---------------------------------------------------------------------------\u001b[0m",
      "\u001b[1;31mNameError\u001b[0m                                 Traceback (most recent call last)",
      "\u001b[1;32m<ipython-input-14-86c950f3f336>\u001b[0m in \u001b[0;36m<module>\u001b[1;34m()\u001b[0m\n\u001b[1;32m----> 1\u001b[1;33m \u001b[0mnp\u001b[0m\u001b[1;33m.\u001b[0m\u001b[0msavetxt\u001b[0m\u001b[1;33m(\u001b[0m\u001b[1;34m'y_cost_LODadapt_cost_AU_avg.csv'\u001b[0m\u001b[1;33m,\u001b[0m \u001b[0madapt_cost_2\u001b[0m\u001b[1;33m,\u001b[0m\u001b[0mdelimiter\u001b[0m\u001b[1;33m=\u001b[0m\u001b[1;34m', '\u001b[0m\u001b[1;33m)\u001b[0m\u001b[1;33m\u001b[0m\u001b[0m\n\u001b[0m\u001b[0;32m      2\u001b[0m \u001b[0mnp\u001b[0m\u001b[1;33m.\u001b[0m\u001b[0msavetxt\u001b[0m\u001b[1;33m(\u001b[0m\u001b[1;34m'y_cost_LODinstall_cost_AU_avg.csv'\u001b[0m\u001b[1;33m,\u001b[0m \u001b[0minstall_cost_2\u001b[0m\u001b[1;33m,\u001b[0m\u001b[0mdelimiter\u001b[0m\u001b[1;33m=\u001b[0m\u001b[1;34m', '\u001b[0m\u001b[1;33m)\u001b[0m\u001b[1;33m\u001b[0m\u001b[0m\n\u001b[0;32m      3\u001b[0m \u001b[0mnp\u001b[0m\u001b[1;33m.\u001b[0m\u001b[0msavetxt\u001b[0m\u001b[1;33m(\u001b[0m\u001b[1;34m'y_cost_LODtrain_cost_AU_avg.csv'\u001b[0m\u001b[1;33m,\u001b[0m \u001b[0mtrain_cost_2\u001b[0m\u001b[1;33m,\u001b[0m\u001b[0mdelimiter\u001b[0m\u001b[1;33m=\u001b[0m\u001b[1;34m', '\u001b[0m\u001b[1;33m)\u001b[0m\u001b[1;33m\u001b[0m\u001b[0m\n\u001b[0;32m      4\u001b[0m \u001b[0mnp\u001b[0m\u001b[1;33m.\u001b[0m\u001b[0msavetxt\u001b[0m\u001b[1;33m(\u001b[0m\u001b[1;34m'y_cost_LODintang_improve_AU_avg.csv'\u001b[0m\u001b[1;33m,\u001b[0m \u001b[0mintang_improve_2\u001b[0m\u001b[1;33m,\u001b[0m\u001b[0mdelimiter\u001b[0m\u001b[1;33m=\u001b[0m\u001b[1;34m', '\u001b[0m\u001b[1;33m)\u001b[0m\u001b[1;33m\u001b[0m\u001b[0m\n\u001b[0;32m      5\u001b[0m \u001b[0mnp\u001b[0m\u001b[1;33m.\u001b[0m\u001b[0msavetxt\u001b[0m\u001b[1;33m(\u001b[0m\u001b[1;34m'y_cost_LODproduct_improve_AU_avg.csv'\u001b[0m\u001b[1;33m,\u001b[0m \u001b[0mproduct_improve_2\u001b[0m\u001b[1;33m,\u001b[0m\u001b[0mdelimiter\u001b[0m\u001b[1;33m=\u001b[0m\u001b[1;34m', '\u001b[0m\u001b[1;33m)\u001b[0m\u001b[1;33m\u001b[0m\u001b[0m\n",
      "\u001b[1;31mNameError\u001b[0m: name 'adapt_cost_2' is not defined"
     ]
    }
   ],
   "source": [
    "np.savetxt('y_cost_LODadapt_cost_AU_avg.csv', adapt_cost_2,delimiter=', ')\n",
    "np.savetxt('y_cost_LODinstall_cost_AU_avg.csv', install_cost_2,delimiter=', ')\n",
    "np.savetxt('y_cost_LODtrain_cost_AU_avg.csv', train_cost_2,delimiter=', ')\n",
    "np.savetxt('y_cost_LODintang_improve_AU_avg.csv', intang_improve_2,delimiter=', ')\n",
    "np.savetxt('y_cost_LODproduct_improve_AU_avg.csv', product_improve_2,delimiter=', ')"
   ]
  },
  {
   "cell_type": "code",
   "execution_count": 11,
   "metadata": {
    "collapsed": true
   },
   "outputs": [],
   "source": [
    "i = 0;\n",
    "j = 0;\n",
    "total_cost_LOD = np.zeros((14,4))\n",
    "for i in range (14):\n",
    "    for j in range (4):\n",
    "        total_cost_1_LOD = adapt_cost_2.item((i, j))+install_cost_2.item((i, j))+train_cost_2.item((i,j))-intang_improve_2.item((i,j))-product_improve_2.item((i,j));\n",
    "        np.put(total_cost_LOD, [4*i+j], [total_cost_1_LOD]) \n",
    "np.savetxt('LOD_cost_AU_avg.csv', total_cost_LOD, delimiter=',')"
   ]
  },
  {
   "cell_type": "markdown",
   "metadata": {},
   "source": [
    "### Australian datasets - LOD cost for a specific application"
   ]
  },
  {
   "cell_type": "code",
   "execution_count": 3,
   "metadata": {},
   "outputs": [],
   "source": [
    "application = np.genfromtxt ('C:/Users/z5023853/OneDrive - UNSW/Jupyter/Keras/Application_cost_AU_avg.csv',\n",
    "                           delimiter  = ',')\n",
    "LOD = np.genfromtxt ('C:/Users/z5023853/OneDrive - UNSW/Jupyter/Keras/LOD_cost_AU_avg.csv', delimiter  = ',')"
   ]
  },
  {
   "cell_type": "markdown",
   "metadata": {},
   "source": [
    "i = 0;\n",
    "j = 0;\n",
    "k = 0;\n",
    "TC13 = np.zeros((98,4));\n",
    "for i in range (14):\n",
    "    for j in range (7):\n",
    "        for k in range (4):\n",
    "            TC_1 = application.item((i,j))*LOD.item((i,k));\n",
    "            #TC_2 = 10*j + k;\n",
    "            np.put(TC13, [(4*j+k)*(i+1)], [TC_1])"
   ]
  },
  {
   "cell_type": "markdown",
   "metadata": {},
   "source": [
    "#TC = np.vstack((TC1,TC2,TC3,TC4,TC5,TC6,TC7,TC8,TC9,TC10,TC11,TC12,TC13))\n",
    "print(TC13.shape)\n",
    "np.savetxt('LOD_APP_AU_avg.csv', TC13, delimiter=',')"
   ]
  },
  {
   "cell_type": "code",
   "execution_count": 4,
   "metadata": {},
   "outputs": [],
   "source": [
    "au_6app = application[[5],:].reshape(7,1)\n",
    "au_6lod = LOD[[5],:].reshape(4,1)"
   ]
  },
  {
   "cell_type": "code",
   "execution_count": 5,
   "metadata": {},
   "outputs": [
    {
     "data": {
      "text/plain": [
       "array([[ 30.09362393],\n",
       "       [ -6.92389194],\n",
       "       [  1.4974309 ],\n",
       "       [ -4.29339801],\n",
       "       [ -4.36176528],\n",
       "       [ 21.87264613],\n",
       "       [ 15.16563019]])"
      ]
     },
     "execution_count": 5,
     "metadata": {},
     "output_type": "execute_result"
    }
   ],
   "source": [
    "au_6app"
   ]
  },
  {
   "cell_type": "code",
   "execution_count": 17,
   "metadata": {},
   "outputs": [
    {
     "data": {
      "text/plain": [
       "array([[ 1.42589904],\n",
       "       [-1.54127238],\n",
       "       [ 3.19242722],\n",
       "       [ 4.99968954]])"
      ]
     },
     "execution_count": 17,
     "metadata": {},
     "output_type": "execute_result"
    }
   ],
   "source": [
    "au_6lod"
   ]
  },
  {
   "cell_type": "code",
   "execution_count": 14,
   "metadata": {},
   "outputs": [
    {
     "name": "stdout",
     "output_type": "stream",
     "text": [
      "[[ 31.51952297  28.55235155  33.28605115  35.09331347]\n",
      " [ -5.4979929   -8.46516432  -3.73146472  -1.9242024 ]\n",
      " [  2.92332994  -0.04384148   4.68985811   6.49712043]\n",
      " [ -2.86749897  -5.83467039  -1.10097079   0.70629153]\n",
      " [ -2.93586624  -5.90303766  -1.16933806   0.63792426]\n",
      " [ 23.29854517  20.33137375  25.06507334  26.87233566]\n",
      " [ 16.59152924  13.62435781  18.35805741  20.16531973]]\n"
     ]
    }
   ],
   "source": [
    "i = 0;\n",
    "j = 0;\n",
    "TC = np.zeros((7,4))\n",
    "for i in range (7):\n",
    "    for j in range (4):\n",
    "        x = au_6app.item((i,0))+au_6lod.item((j,0));\n",
    "        np.put(TC, [4*i+j], [x])\n",
    "print (TC)"
   ]
  },
  {
   "cell_type": "code",
   "execution_count": null,
   "metadata": {
    "collapsed": true
   },
   "outputs": [],
   "source": []
  }
 ],
 "metadata": {
  "kernelspec": {
   "display_name": "Python 3",
   "language": "python",
   "name": "python3"
  },
  "language_info": {
   "codemirror_mode": {
    "name": "ipython",
    "version": 3
   },
   "file_extension": ".py",
   "mimetype": "text/x-python",
   "name": "python",
   "nbconvert_exporter": "python",
   "pygments_lexer": "ipython3",
   "version": "3.6.3"
  }
 },
 "nbformat": 4,
 "nbformat_minor": 2
}
